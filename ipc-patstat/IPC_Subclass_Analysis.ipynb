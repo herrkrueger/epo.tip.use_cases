{
 "cells": [
  {
   "cell_type": "markdown",
   "metadata": {},
   "source": [
    "# IPC Subclass Patent Count Analysis\n",
    "\n",
    "This notebook provides a comprehensive analysis of patent counts across all ~646 IPC (International Patent Classification) subclasses using the PATSTAT database.\n",
    "\n",
    "## Overview\n",
    "\n",
    "- **Goal**: Count patents for all IPC subclasses (4-character codes like A61K, B66B, etc.)\n",
    "- **Data Source**: PATSTAT Global database via EPO TIP Data services\n",
    "- **Advantage**: No 10,000 result limit (unlike OPS API)\n",
    "- **Output**: Complete statistics with granted patents, families, and time ranges\n",
    "\n",
    "## Key PATSTAT Tables Used\n",
    "\n",
    "- **TLS209_APPLN_IPC**: IPC classification assignments\n",
    "- **TLS201_APPLN**: Application details (filing dates, granted status, etc.)\n",
    "\n",
    "## Prerequisites\n",
    "\n",
    "Ensure you have access to the EPO TIP Data PATSTAT environment and required Python packages."
   ]
  },
  {
   "cell_type": "markdown",
   "metadata": {},
   "source": [
    "## 1. Setup and Imports"
   ]
  },
  {
   "cell_type": "code",
   "execution_count": 15,
   "metadata": {},
   "outputs": [
    {
     "name": "stdout",
     "output_type": "stream",
     "text": [
      "Libraries imported successfully!\n",
      "Analysis started at: 2025-06-06 12:09:48.705027\n"
     ]
    }
   ],
   "source": [
    "# Import required libraries\n",
    "import pandas as pd\n",
    "import numpy as np\n",
    "import matplotlib.pyplot as plt\n",
    "import seaborn as sns\n",
    "from datetime import datetime\n",
    "import warnings\n",
    "warnings.filterwarnings('ignore')\n",
    "\n",
    "# PATSTAT imports\n",
    "from epo.tipdata.patstat import PatstatClient\n",
    "from epo.tipdata.patstat.database.models import TLS201_APPLN, TLS209_APPLN_IPC\n",
    "from sqlalchemy import func\n",
    "\n",
    "# Set display options for better output\n",
    "pd.set_option('display.max_columns', None)\n",
    "pd.set_option('display.width', None)\n",
    "pd.set_option('display.max_colwidth', None)\n",
    "\n",
    "print(\"Libraries imported successfully!\")\n",
    "print(f\"Analysis started at: {datetime.now()}\")"
   ]
  },
  {
   "cell_type": "markdown",
   "metadata": {},
   "source": [
    "## 2. Database Connection"
   ]
  },
  {
   "cell_type": "code",
   "execution_count": 16,
   "metadata": {},
   "outputs": [
    {
     "name": "stdout",
     "output_type": "stream",
     "text": [
      "Connecting to PATSTAT TEST environment...\n",
      "✅ Connected to PATSTAT TEST environment\n",
      "Database engine: Engine(bigquery+custom_dialect://p-epo-tip-prj-3a1f/p_epo_tip_euwe4_bqd_patstattestb)\n"
     ]
    }
   ],
   "source": [
    "# Initialize PATSTAT client\n",
    "# Use 'TEST' for quick testing (limited data) or 'PROD' for complete analysis\n",
    "environment = 'TEST'  # Change to 'PROD' for full dataset\n",
    "\n",
    "print(f\"Connecting to PATSTAT {environment} environment...\")\n",
    "patstat = PatstatClient(env=environment)\n",
    "db = patstat.orm()\n",
    "\n",
    "print(f\"✅ Connected to PATSTAT {environment} environment\")\n",
    "print(f\"Database engine: {db.bind}\")"
   ]
  },
  {
   "cell_type": "markdown",
   "metadata": {},
   "source": [
    "## 3. IPC Section Mapping\n",
    "\n",
    "Define the 8 main IPC sections for context and analysis."
   ]
  },
  {
   "cell_type": "code",
   "execution_count": 17,
   "metadata": {},
   "outputs": [
    {
     "name": "stdout",
     "output_type": "stream",
     "text": [
      "IPC Classification Sections:\n",
      "==================================================\n",
      "A: Human Necessities\n",
      "B: Performing Operations; Transporting\n",
      "C: Chemistry; Metallurgy\n",
      "D: Textiles; Paper\n",
      "E: Fixed Constructions\n",
      "F: Mechanical Engineering; Lighting; Heating; Weapons; Blasting\n",
      "G: Physics\n",
      "H: Electricity\n"
     ]
    }
   ],
   "source": [
    "# IPC Section definitions\n",
    "ipc_sections = {\n",
    "    'A': 'Human Necessities',\n",
    "    'B': 'Performing Operations; Transporting',\n",
    "    'C': 'Chemistry; Metallurgy',\n",
    "    'D': 'Textiles; Paper',\n",
    "    'E': 'Fixed Constructions',\n",
    "    'F': 'Mechanical Engineering; Lighting; Heating; Weapons; Blasting',\n",
    "    'G': 'Physics',\n",
    "    'H': 'Electricity'\n",
    "}\n",
    "\n",
    "def get_ipc_section_name(ipc_subclass):\n",
    "    \"\"\"Get full section name from IPC subclass.\"\"\"\n",
    "    if ipc_subclass and len(ipc_subclass) > 0:\n",
    "        section = ipc_subclass[0]\n",
    "        return ipc_sections.get(section, f\"Section {section}\")\n",
    "    return \"Unknown\"\n",
    "\n",
    "# Display IPC sections\n",
    "print(\"IPC Classification Sections:\")\n",
    "print(\"=\" * 50)\n",
    "for section, description in ipc_sections.items():\n",
    "    print(f\"{section}: {description}\")"
   ]
  },
  {
   "cell_type": "markdown",
   "metadata": {},
   "source": [
    "## 4. Comprehensive IPC Subclass Analysis\n",
    "\n",
    "Execute the main query to count patents across all IPC subclasses."
   ]
  },
  {
   "cell_type": "code",
   "execution_count": 18,
   "metadata": {},
   "outputs": [
    {
     "name": "stdout",
     "output_type": "stream",
     "text": [
      "Building comprehensive IPC subclass query...\n",
      "Executing query... This may take several minutes for PROD environment.\n",
      "⏳ Please wait...\n"
     ]
    }
   ],
   "source": [
    "print(\"Building comprehensive IPC subclass query...\")\n",
    "\n",
    "# Import case from sqlalchemy for proper syntax\n",
    "from sqlalchemy import case, text\n",
    "\n",
    "# Main query for IPC subclass analysis - BigQuery compatible\n",
    "comprehensive_query = db.query(\n",
    "    func.substr(TLS209_APPLN_IPC.ipc_class_symbol, 1, 4).label('ipc_subclass'),\n",
    "    func.count(TLS201_APPLN.appln_id).label('total_patents'),\n",
    "    func.sum(\n",
    "        case(\n",
    "            (TLS201_APPLN.granted == 'Y', 1),\n",
    "            else_=0\n",
    "        )\n",
    "    ).label('granted_patents'),\n",
    "    func.count(func.distinct(TLS201_APPLN.docdb_family_id)).label('unique_families'),\n",
    "    func.min(TLS201_APPLN.earliest_filing_year).label('earliest_year'),\n",
    "    func.max(TLS201_APPLN.appln_filing_year).label('latest_year'),\n",
    "    func.avg(TLS201_APPLN.nb_citing_docdb_fam).label('avg_citations')\n",
    ").join(\n",
    "    TLS201_APPLN, TLS209_APPLN_IPC.appln_id == TLS201_APPLN.appln_id\n",
    ").filter(\n",
    "    TLS201_APPLN.appln_id < 900000000,  # Exclude artificial applications\n",
    "    func.char_length(func.substr(TLS209_APPLN_IPC.ipc_class_symbol, 1, 4)) == 4,  # Valid subclasses - BigQuery compatible\n",
    "    TLS209_APPLN_IPC.ipc_class_level == 'A'  # Full IPC classification\n",
    ").group_by(\n",
    "    text('ipc_subclass')  # Use the alias directly\n",
    ").order_by(\n",
    "    func.count(TLS201_APPLN.appln_id).desc()\n",
    ")\n",
    "\n",
    "print(\"Executing query... This may take several minutes for PROD environment.\")\n",
    "print(\"⏳ Please wait...\")"
   ]
  },
  {
   "cell_type": "code",
   "execution_count": 19,
   "metadata": {},
   "outputs": [
    {
     "name": "stdout",
     "output_type": "stream",
     "text": [
      "✅ Query completed successfully!\n",
      "⏱️ Query execution time: 4.01 seconds\n",
      "📊 Total IPC subclasses found: 623\n"
     ]
    }
   ],
   "source": [
    "# Execute the query and convert to DataFrame\n",
    "start_time = datetime.now()\n",
    "\n",
    "try:\n",
    "    ipc_analysis_df = patstat.df(comprehensive_query)\n",
    "    end_time = datetime.now()\n",
    "    query_duration = (end_time - start_time).total_seconds()\n",
    "    \n",
    "    print(f\"✅ Query completed successfully!\")\n",
    "    print(f\"⏱️ Query execution time: {query_duration:.2f} seconds\")\n",
    "    print(f\"📊 Total IPC subclasses found: {len(ipc_analysis_df)}\")\n",
    "    \n",
    "except Exception as e:\n",
    "    print(f\"❌ Query failed: {e}\")\n",
    "    print(\"Troubleshooting tips:\")\n",
    "    print(\"- Check database connection\")\n",
    "    print(\"- Verify PATSTAT access permissions\")\n",
    "    print(\"- Try using TEST environment first\")"
   ]
  },
  {
   "cell_type": "markdown",
   "metadata": {},
   "source": [
    "## 5. Data Processing and Enhancement"
   ]
  },
  {
   "cell_type": "code",
   "execution_count": 20,
   "metadata": {},
   "outputs": [
    {
     "name": "stdout",
     "output_type": "stream",
     "text": [
      "✅ Data processing completed\n",
      "📈 Dataset shape: (623, 11)\n",
      "🔢 Total patents covered: 1,035,000\n"
     ]
    }
   ],
   "source": [
    "# Add additional columns for analysis\n",
    "if 'ipc_analysis_df' in locals() and not ipc_analysis_df.empty:\n",
    "    # Add IPC section information\n",
    "    ipc_analysis_df['ipc_section'] = ipc_analysis_df['ipc_subclass'].str[0]\n",
    "    ipc_analysis_df['ipc_section_name'] = ipc_analysis_df['ipc_subclass'].apply(get_ipc_section_name)\n",
    "    \n",
    "    # Calculate grant rate\n",
    "    ipc_analysis_df['grant_rate'] = (\n",
    "        ipc_analysis_df['granted_patents'] / ipc_analysis_df['total_patents'] * 100\n",
    "    ).round(2)\n",
    "    \n",
    "    # Calculate time span\n",
    "    ipc_analysis_df['time_span'] = (\n",
    "        ipc_analysis_df['latest_year'] - ipc_analysis_df['earliest_year']\n",
    "    )\n",
    "    \n",
    "    # Handle missing citation data\n",
    "    ipc_analysis_df['avg_citations'] = ipc_analysis_df['avg_citations'].fillna(0).round(2)\n",
    "    \n",
    "    print(\"✅ Data processing completed\")\n",
    "    print(f\"📈 Dataset shape: {ipc_analysis_df.shape}\")\n",
    "    print(f\"🔢 Total patents covered: {ipc_analysis_df['total_patents'].sum():,}\")\n",
    "else:\n",
    "    print(\"❌ No data available for processing\")"
   ]
  },
  {
   "cell_type": "markdown",
   "metadata": {},
   "source": [
    "## 6. Results Overview"
   ]
  },
  {
   "cell_type": "code",
   "execution_count": 21,
   "metadata": {},
   "outputs": [
    {
     "name": "stdout",
     "output_type": "stream",
     "text": [
      "🏆 TOP 10 IPC SUBCLASSES BY PATENT COUNT\n",
      "============================================================\n",
      "F03D | Mechanical Engineering; L |  203,055 patents |  124,750 granted ( 61.4%)\n",
      "H02J | Electricity               |   72,583 patents |   47,431 granted ( 65.3%)\n",
      "H02K | Electricity               |   46,510 patents |   30,874 granted ( 66.4%)\n",
      "G06F | Physics                   |   24,697 patents |   18,764 granted ( 76.0%)\n",
      "B29C | Performing Operations; Tr |   21,406 patents |   13,938 granted ( 65.1%)\n",
      "G06Q | Physics                   |   19,663 patents |   13,269 granted ( 67.5%)\n",
      "B63B | Performing Operations; Tr |   18,147 patents |   10,583 granted ( 58.3%)\n",
      "F16C | Mechanical Engineering; L |   16,639 patents |   10,846 granted ( 65.2%)\n",
      "F03B | Mechanical Engineering; L |   16,115 patents |    9,680 granted ( 60.1%)\n",
      "H02M | Electricity               |   15,481 patents |   11,302 granted ( 73.0%)\n",
      "\n",
      "📊 SUMMARY STATISTICS\n",
      "========================================\n",
      "Total IPC subclasses analyzed: 623\n",
      "Total patents in dataset: 1,035,000\n",
      "Total granted patents: 701,765\n",
      "Total unique families: 457,270\n",
      "Average grant rate: 71.2%\n"
     ]
    }
   ],
   "source": [
    "# Display basic statistics\n",
    "if 'ipc_analysis_df' in locals() and not ipc_analysis_df.empty:\n",
    "    print(\"🏆 TOP 10 IPC SUBCLASSES BY PATENT COUNT\")\n",
    "    print(\"=\" * 60)\n",
    "    \n",
    "    top_10 = ipc_analysis_df.head(10)[[\n",
    "        'ipc_subclass', 'ipc_section_name', 'total_patents', \n",
    "        'granted_patents', 'grant_rate'\n",
    "    ]]\n",
    "    \n",
    "    for idx, row in top_10.iterrows():\n",
    "        print(f\"{row['ipc_subclass']:4} | {row['ipc_section_name'][:25]:25} | \"\n",
    "              f\"{row['total_patents']:8,} patents | \"\n",
    "              f\"{row['granted_patents']:8,} granted ({row['grant_rate']:5.1f}%)\")\n",
    "    \n",
    "    print(\"\\n📊 SUMMARY STATISTICS\")\n",
    "    print(\"=\" * 40)\n",
    "    print(f\"Total IPC subclasses analyzed: {len(ipc_analysis_df):,}\")\n",
    "    print(f\"Total patents in dataset: {ipc_analysis_df['total_patents'].sum():,}\")\n",
    "    print(f\"Total granted patents: {ipc_analysis_df['granted_patents'].sum():,}\")\n",
    "    print(f\"Total unique families: {ipc_analysis_df['unique_families'].sum():,}\")\n",
    "    print(f\"Average grant rate: {ipc_analysis_df['grant_rate'].mean():.1f}%\")\n",
    "    \n",
    "else:\n",
    "    print(\"❌ No results to display\")"
   ]
  },
  {
   "cell_type": "code",
   "execution_count": null,
   "metadata": {},
   "outputs": [],
   "source": [
    "# Display the complete dataset\n",
    "if 'ipc_analysis_df' in locals() and not ipc_analysis_df.empty:\n",
    "    print(\"📋 COMPLETE IPC SUBCLASS ANALYSIS RESULTS\")\n",
    "    print(\"=\" * 80)\n",
    "    \n",
    "    # Reorder columns for better readability\n",
    "    display_columns = [\n",
    "        'ipc_subclass', 'ipc_section', 'ipc_section_name',\n",
    "        'total_patents', 'granted_patents', 'grant_rate',\n",
    "        'unique_families', 'earliest_year', 'latest_year', \n",
    "        'time_span', 'avg_citations'\n",
    "    ]\n",
    "    \n",
    "    display_df = ipc_analysis_df[display_columns]\n",
    "    \n",
    "    # Show all results\n",
    "    with pd.option_context('display.max_rows', None):\n",
    "        display(display_df)\n",
    "    \n",
    "    print(f\"\\n✅ Showing all {len(display_df)} IPC subclasses\")"
   ]
  },
  {
   "cell_type": "markdown",
   "metadata": {},
   "source": [
    "## 7. Analysis by IPC Section"
   ]
  },
  {
   "cell_type": "code",
   "execution_count": null,
   "metadata": {},
   "outputs": [],
   "source": [
    "# Aggregate statistics by IPC section\n",
    "if 'ipc_analysis_df' in locals() and not ipc_analysis_df.empty:\n",
    "    section_analysis = ipc_analysis_df.groupby(['ipc_section', 'ipc_section_name']).agg({\n",
    "        'ipc_subclass': 'count',\n",
    "        'total_patents': 'sum',\n",
    "        'granted_patents': 'sum',\n",
    "        'unique_families': 'sum',\n",
    "        'grant_rate': 'mean',\n",
    "        'avg_citations': 'mean'\n",
    "    }).round(2)\n",
    "    \n",
    "    section_analysis.columns = [\n",
    "        'subclasses_count', 'total_patents', 'granted_patents', \n",
    "        'unique_families', 'avg_grant_rate', 'avg_citations'\n",
    "    ]\n",
    "    \n",
    "    section_analysis = section_analysis.sort_values('total_patents', ascending=False)\n",
    "    \n",
    "    print(\"🏗️ IPC SECTION ANALYSIS\")\n",
    "    print(\"=\" * 80)\n",
    "    display(section_analysis)\n",
    "    \n",
    "    print(\"\\n📋 SECTION RANKINGS BY PATENT COUNT:\")\n",
    "    for idx, (section_info, row) in enumerate(section_analysis.iterrows(), 1):\n",
    "        section, name = section_info\n",
    "        print(f\"{idx}. Section {section} ({name}): {row['total_patents']:,} patents\")"
   ]
  },
  {
   "cell_type": "markdown",
   "metadata": {},
   "source": [
    "## 8. Data Export"
   ]
  },
  {
   "cell_type": "code",
   "execution_count": null,
   "metadata": {},
   "outputs": [],
   "source": [
    "# Export results to CSV files\n",
    "if 'ipc_analysis_df' in locals() and not ipc_analysis_df.empty:\n",
    "    timestamp = datetime.now().strftime(\"%Y%m%d_%H%M%S\")\n",
    "    \n",
    "    # Export detailed IPC subclass analysis\n",
    "    detailed_filename = f\"ipc_subclass_analysis_detailed_{timestamp}.csv\"\n",
    "    ipc_analysis_df.to_csv(detailed_filename, index=False)\n",
    "    print(f\"✅ Detailed analysis exported to: {detailed_filename}\")\n",
    "    \n",
    "    # Export section summary\n",
    "    if 'section_analysis' in locals():\n",
    "        section_filename = f\"ipc_section_summary_{timestamp}.csv\"\n",
    "        section_analysis.to_csv(section_filename)\n",
    "        print(f\"✅ Section summary exported to: {section_filename}\")\n",
    "    \n",
    "    # Create a simple summary for quick reference\n",
    "    summary_df = ipc_analysis_df[[\n",
    "        'ipc_subclass', 'total_patents', 'granted_patents', 'grant_rate'\n",
    "    ]].copy()\n",
    "    \n",
    "    summary_filename = f\"ipc_subclass_summary_{timestamp}.csv\"\n",
    "    summary_df.to_csv(summary_filename, index=False)\n",
    "    print(f\"✅ Quick summary exported to: {summary_filename}\")\n",
    "    \n",
    "    print(f\"\\n📁 All files saved in: {os.getcwd()}\")\n",
    "else:\n",
    "    print(\"❌ No data available for export\")"
   ]
  },
  {
   "cell_type": "markdown",
   "metadata": {},
   "source": [
    "## 9. Visualization (Optional)"
   ]
  },
  {
   "cell_type": "code",
   "execution_count": null,
   "metadata": {},
   "outputs": [],
   "source": [
    "# Create visualizations if data is available\n",
    "if 'ipc_analysis_df' in locals() and not ipc_analysis_df.empty:\n",
    "    \n",
    "    # Set up the plotting style\n",
    "    plt.style.use('default')\n",
    "    fig, axes = plt.subplots(2, 2, figsize=(16, 12))\n",
    "    fig.suptitle('IPC Subclass Patent Analysis Overview', fontsize=16, fontweight='bold')\n",
    "    \n",
    "    # 1. Top 20 IPC subclasses by patent count\n",
    "    top_20 = ipc_analysis_df.head(20)\n",
    "    axes[0, 0].barh(range(len(top_20)), top_20['total_patents'])\n",
    "    axes[0, 0].set_yticks(range(len(top_20)))\n",
    "    axes[0, 0].set_yticklabels(top_20['ipc_subclass'])\n",
    "    axes[0, 0].set_xlabel('Total Patents')\n",
    "    axes[0, 0].set_title('Top 20 IPC Subclasses by Patent Count')\n",
    "    axes[0, 0].invert_yaxis()\n",
    "    \n",
    "    # 2. Patent distribution by IPC section\n",
    "    if 'section_analysis' in locals():\n",
    "        section_data = section_analysis.reset_index()\n",
    "        axes[0, 1].pie(section_data['total_patents'], \n",
    "                      labels=section_data['ipc_section'], \n",
    "                      autopct='%1.1f%%')\n",
    "        axes[0, 1].set_title('Patent Distribution by IPC Section')\n",
    "    \n",
    "    # 3. Grant rate distribution\n",
    "    axes[1, 0].hist(ipc_analysis_df['grant_rate'], bins=30, alpha=0.7, edgecolor='black')\n",
    "    axes[1, 0].set_xlabel('Grant Rate (%)')\n",
    "    axes[1, 0].set_ylabel('Number of IPC Subclasses')\n",
    "    axes[1, 0].set_title('Distribution of Grant Rates Across IPC Subclasses')\n",
    "    axes[1, 0].axvline(ipc_analysis_df['grant_rate'].mean(), \n",
    "                      color='red', linestyle='--', \n",
    "                      label=f'Mean: {ipc_analysis_df[\"grant_rate\"].mean():.1f}%')\n",
    "    axes[1, 0].legend()\n",
    "    \n",
    "    # 4. Patent count vs Citations scatter plot\n",
    "    scatter = axes[1, 1].scatter(ipc_analysis_df['total_patents'], \n",
    "                                ipc_analysis_df['avg_citations'],\n",
    "                                alpha=0.6, s=30)\n",
    "    axes[1, 1].set_xlabel('Total Patents')\n",
    "    axes[1, 1].set_ylabel('Average Citations')\n",
    "    axes[1, 1].set_title('Patent Count vs Average Citations')\n",
    "    axes[1, 1].set_xscale('log')\n",
    "    \n",
    "    plt.tight_layout()\n",
    "    \n",
    "    # Save the plot\n",
    "    plot_filename = f\"ipc_analysis_overview_{timestamp}.png\"\n",
    "    plt.savefig(plot_filename, dpi=300, bbox_inches='tight')\n",
    "    plt.show()\n",
    "    \n",
    "    print(f\"📊 Visualization saved as: {plot_filename}\")\n",
    "else:\n",
    "    print(\"❌ No data available for visualization\")"
   ]
  },
  {
   "cell_type": "markdown",
   "metadata": {},
   "source": [
    "## 10. Comparison with OPS API Results\n",
    "\n",
    "Let's compare some results with the OPS API to validate our findings."
   ]
  },
  {
   "cell_type": "code",
   "execution_count": null,
   "metadata": {},
   "outputs": [],
   "source": [
    "# Compare with previously found OPS API results\n",
    "if 'ipc_analysis_df' in locals() and not ipc_analysis_df.empty:\n",
    "    \n",
    "    print(\"🔍 COMPARISON WITH OPS API FINDINGS\")\n",
    "    print(\"=\" * 50)\n",
    "    \n",
    "    # Check F99Z (previously found to have 47 hits in OPS)\n",
    "    f99z_result = ipc_analysis_df[ipc_analysis_df['ipc_subclass'] == 'F99Z']\n",
    "    \n",
    "    if not f99z_result.empty:\n",
    "        f99z_count = f99z_result['total_patents'].iloc[0]\n",
    "        print(f\"F99Z in PATSTAT: {f99z_count:,} patents\")\n",
    "        print(f\"F99Z in OPS API: 47 patents (previously tested)\")\n",
    "        print(f\"Difference: PATSTAT likely includes more historical/global data\")\n",
    "    else:\n",
    "        print(\"F99Z not found in PATSTAT results (may not exist in this dataset)\")\n",
    "    \n",
    "    print(\"\\n🔍 IPC SUBCLASSES WITH FEWER THAN 10,000 PATENTS:\")\n",
    "    under_10k = ipc_analysis_df[ipc_analysis_df['total_patents'] < 10000]\n",
    "    \n",
    "    if not under_10k.empty:\n",
    "        print(f\"Found {len(under_10k)} IPC subclasses with < 10,000 patents:\")\n",
    "        print(under_10k[['ipc_subclass', 'total_patents', 'ipc_section_name']].to_string(index=False))\n",
    "    else:\n",
    "        print(\"All IPC subclasses have 10,000+ patents in PATSTAT\")\n",
    "        print(\"This shows the comprehensive nature of the PATSTAT database\")\n",
    "    \n",
    "    print(\"\\n💡 KEY INSIGHTS:\")\n",
    "    print(\"- PATSTAT provides complete historical patent data\")\n",
    "    print(\"- OPS API is limited to 10,000 results per query\")\n",
    "    print(\"- PATSTAT analysis reveals true patent landscape across IPC classes\")\n",
    "    print(\"- Most IPC subclasses contain thousands of patents, explaining OPS limitations\")"
   ]
  },
  {
   "cell_type": "markdown",
   "metadata": {},
   "source": [
    "## 11. Analysis Summary and Recommendations"
   ]
  },
  {
   "cell_type": "code",
   "execution_count": null,
   "metadata": {},
   "outputs": [],
   "source": [
    "# Final summary and recommendations\n",
    "if 'ipc_analysis_df' in locals() and not ipc_analysis_df.empty:\n",
    "    \n",
    "    print(\"📊 FINAL ANALYSIS SUMMARY\")\n",
    "    print(\"=\" * 60)\n",
    "    \n",
    "    total_subclasses = len(ipc_analysis_df)\n",
    "    total_patents = ipc_analysis_df['total_patents'].sum()\n",
    "    avg_patents_per_subclass = total_patents / total_subclasses\n",
    "    \n",
    "    print(f\"📈 Dataset Overview:\")\n",
    "    print(f\"   • Total IPC subclasses analyzed: {total_subclasses:,}\")\n",
    "    print(f\"   • Total patents in dataset: {total_patents:,}\")\n",
    "    print(f\"   • Average patents per subclass: {avg_patents_per_subclass:,.0f}\")\n",
    "    print(f\"   • Environment used: {environment}\")\n",
    "    \n",
    "    # Find the most and least active sections\n",
    "    if 'section_analysis' in locals():\n",
    "        most_active = section_analysis.index[0]\n",
    "        least_active = section_analysis.index[-1]\n",
    "        \n",
    "        print(f\"\\n🏆 Most active section: {most_active[0]} - {most_active[1]}\")\n",
    "        print(f\"   • {section_analysis.loc[most_active, 'total_patents']:,} patents\")\n",
    "        print(f\"   • {section_analysis.loc[most_active, 'subclasses_count']} subclasses\")\n",
    "        \n",
    "        print(f\"\\n🔻 Least active section: {least_active[0]} - {least_active[1]}\")\n",
    "        print(f\"   • {section_analysis.loc[least_active, 'total_patents']:,} patents\")\n",
    "        print(f\"   • {section_analysis.loc[least_active, 'subclasses_count']} subclasses\")\n",
    "    \n",
    "    print(f\"\\n🎯 RECOMMENDATIONS:\")\n",
    "    print(f\"   1. Use PATSTAT for comprehensive IPC analysis (no result limits)\")\n",
    "    print(f\"   2. OPS API is better for real-time queries of specific IPC classes\")\n",
    "    print(f\"   3. Consider time-based filtering for trend analysis\")\n",
    "    print(f\"   4. Grant rate analysis can identify competitive technology areas\")\n",
    "    \n",
    "    if environment == 'TEST':\n",
    "        print(f\"\\n⚠️  NOTE: This analysis used TEST environment (limited data)\")\n",
    "        print(f\"   For complete results, re-run with environment = 'PROD'\")\n",
    "    \n",
    "    print(f\"\\n✅ Analysis completed successfully at {datetime.now()}\")\n",
    "    \n",
    "else:\n",
    "    print(\"❌ Analysis could not be completed due to data issues\")\n",
    "    print(\"   Check database connection and try again\")"
   ]
  },
  {
   "cell_type": "markdown",
   "metadata": {},
   "source": [
    "## 12. Next Steps\n",
    "\n",
    "This analysis provides a foundation for further patent landscape research:\n",
    "\n",
    "### Possible Extensions:\n",
    "\n",
    "1. **Temporal Analysis**: Track IPC subclass trends over time\n",
    "2. **Authority Analysis**: Compare patent activity by filing authority (EP, US, CN, etc.)\n",
    "3. **Technology Mapping**: Connect IPC codes to technology fields using TLS901 table\n",
    "4. **Citation Analysis**: Identify high-impact technology areas\n",
    "5. **Company Analysis**: Link IPC data to applicant information\n",
    "\n",
    "### Code Templates:\n",
    "\n",
    "```python\n",
    "# Example: Temporal analysis\n",
    "temporal_query = db.query(\n",
    "    TLS201_APPLN.appln_filing_year,\n",
    "    func.substr(TLS209_APPLN_IPC.ipc_class_symbol, 1, 4).label('ipc_subclass'),\n",
    "    func.count(TLS201_APPLN.appln_id).label('patents_per_year')\n",
    ").join(...).filter(...).group_by(...)\n",
    "\n",
    "# Example: Authority breakdown\n",
    "authority_query = db.query(\n",
    "    TLS201_APPLN.appln_auth,\n",
    "    func.substr(TLS209_APPLN_IPC.ipc_class_symbol, 1, 4).label('ipc_subclass'),\n",
    "    func.count(TLS201_APPLN.appln_id).label('patent_count')\n",
    ").join(...).filter(...).group_by(...)\n",
    "```\n",
    "\n",
    "### Performance Tips:\n",
    "\n",
    "- Use TEST environment for development and testing\n",
    "- Add date filters to limit query scope when needed\n",
    "- Consider pagination for very large result sets\n",
    "- Cache results for repeated analysis"
   ]
  }
 ],
 "metadata": {
  "kernelspec": {
   "display_name": "Python 3 (ipykernel)",
   "language": "python",
   "name": "python3"
  },
  "language_info": {
   "codemirror_mode": {
    "name": "ipython",
    "version": 3
   },
   "file_extension": ".py",
   "mimetype": "text/x-python",
   "name": "python",
   "nbconvert_exporter": "python",
   "pygments_lexer": "ipython3",
   "version": "3.12.9"
  }
 },
 "nbformat": 4,
 "nbformat_minor": 4
}
