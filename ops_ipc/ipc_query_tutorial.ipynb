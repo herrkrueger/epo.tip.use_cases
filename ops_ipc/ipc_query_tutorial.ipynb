{
 "cells": [
  {
   "cell_type": "markdown",
   "metadata": {},
   "source": [
    "# IPC Query Tutorial\n",
    "\n",
    "This notebook demonstrates how to use the refactored `ipc_query.py` module to search for patents using International Patent Classification (IPC) codes through the EPO OPS API.\n",
    "\n",
    "## Overview\n",
    "\n",
    "The IPC Query module provides a clean, object-oriented interface for:\n",
    "- Searching patents by IPC codes\n",
    "- Extracting structured results\n",
    "- Displaying formatted output\n",
    "\n",
    "## Setup"
   ]
  },
  {
   "cell_type": "code",
   "metadata": {},
   "outputs": [],
   "source": "# IPC Query Tutorial\\n\\nThis notebook demonstrates how to use the refactored `ipc_query.py` module to search for patents using International Patent Classification (IPC) **subclasses** through the EPO OPS API.\\n\\n## Important Note\\n\\n**This module only supports IPC subclasses (4-character codes like A61K, B66B, H01L).** Wildcards (*) are not supported due to EPO OPS API restrictions.\\n\\n## Overview\\n\\nThe IPC Query module provides a clean, object-oriented interface for:\\n- Searching patents by IPC subclasses\\n- Extracting structured results\\n- Displaying formatted output\\n\\n## Valid IPC Subclass Examples\\n- `A61K` - Medical preparations\\n- `B66B` - Elevators, lifts, escalators\\n- `H01L` - Semiconductor devices\\n- `G06F` - Digital data processing\\n- `C07D` - Heterocyclic compounds\\n\\n## Setup\""
  },
  {
   "cell_type": "markdown",
   "metadata": {},
   "source": [
    "## Basic Usage\n",
    "\n",
    "### Simple IPC Query\n",
    "\n",
    "The simplest way to query IPC codes is using the convenience function:"
   ]
  },
  {
   "cell_type": "code",
   "metadata": {},
   "outputs": [],
   "source": "# Example 1: Query medical patents (A61K - preparations for medical, dental, or toilet purposes)\\nresult = query_ipc(\\\"A61K\\\")  # No wildcards needed\""
  },
  {
   "cell_type": "markdown",
   "metadata": {},
   "source": [
    "### Using the IPCQuery Class\n",
    "\n",
    "For more control, you can use the `IPCQuery` class directly:"
   ]
  },
  {
   "cell_type": "code",
   "metadata": {},
   "outputs": [],
   "source": "# Create an IPCQuery instance\\nipc_query = IPCQuery()\\n\\n# Search for elevator/lift patents (B66B - elevators, lifts, escalators)\\nelevator_result = ipc_query.search(\\\"B66B\\\", verbose=True)\""
  },
  {
   "cell_type": "markdown",
   "metadata": {},
   "source": [
    "## Working with Results\n",
    "\n",
    "The `IPCQueryResult` object provides structured access to search results:"
   ]
  },
  {
   "cell_type": "code",
   "metadata": {},
   "outputs": [],
   "source": "# Access result properties\\nprint(f\\\"Total results: {elevator_result.total_results}\\\")\\nprint(f\\\"Response time: {elevator_result.response_time} seconds\\\")\\nprint(f\\\"Number of patents retrieved: {len(elevator_result.patents)}\\\")\\n\\n# Display patents with custom limit\\nelevator_result.display_patents(limit=5)\""
  },
  {
   "cell_type": "markdown",
   "metadata": {},
   "source": [
    "## Data Analysis Examples\n",
    "\n",
    "### Convert Results to DataFrame\n",
    "\n",
    "For analysis, convert patent results to a pandas DataFrame:"
   ]
  },
  {
   "cell_type": "code",
   "metadata": {},
   "outputs": [],
   "source": "# Convert patents to DataFrame\\ndf = pd.DataFrame(elevator_result.patents)\\nprint(\\\"Patent DataFrame:\\\")\\nprint(df.head())\\n\\n# Basic statistics\\nprint(f\\\"\\\\nCountry distribution:\\\")\\nprint(df['country'].value_counts())\""
  },
  {
   "cell_type": "markdown",
   "metadata": {},
   "source": [
    "## Error Handling and IPC Code Validation\\n\\nThe refactored code includes validation for IPC codes. IPC codes follow a specific format:\\n- Start with a letter A-H\\n- Followed by 2 digits\\n- Optionally followed by a letter\\n- Can end with * for wildcard searches\\n\\nExamples of valid IPC codes:\\n- `A61K*` (medical preparations)\\n- `H01L*` (semiconductor devices)\\n- `G06F*` (digital data processing)\\n- `C07D*` (heterocyclic compounds)\\n\\nLet's see the validation in action:\""
   ]
  },
  {
   "cell_type": "code",
   "metadata": {},
   "outputs": [],
   "source": "## Error Handling and IPC Subclass Validation\\n\\nThe refactored code includes validation for IPC subclasses. IPC subclasses follow a specific format:\\n- Start with a letter A-H\\n- Followed by 2 digits\\n- End with exactly one letter\\n- Total length: 4 characters\\n\\nExamples of valid IPC subclasses:\\n- `A61K` (medical preparations)\\n- `B66B` (elevators, lifts, escalators)\\n- `H01L` (semiconductor devices)\\n- `G06F` (digital data processing)\\n- `C07D` (heterocyclic compounds)\\n\\n**Note:** Wildcards (*) are automatically removed and not supported.\\n\\nLet's see the validation in action:\""
  },
  {
   "cell_type": "markdown",
   "metadata": {},
   "source": "# Test IPC subclass validation\\ntest_codes = [\\n    \\\"A61K\\\",     # Valid: medical preparations\\n    \\\"B66B\\\",     # Valid: elevators, lifts, escalators\\n    \\\"H01L\\\",     # Valid: semiconductor devices\\n    \\\"G06F\\\",     # Valid: digital data processing\\n    \\\"A61K*\\\",    # Valid: wildcard will be removed\\n    \\\"A61\\\",      # Invalid: too short\\n    \\\"INVALID\\\",  # Invalid: doesn't follow IPC format\\n    \\\"Z99Z\\\",     # Invalid: Z is not a valid IPC section\\n]\\n\\nipc_query = IPCQuery()\\n\\nfor code in test_codes:\\n    try:\\n        print(f\\\"Testing {code}: \\\", end=\\\"\\\")\\n        result = ipc_query.search(code, verbose=False)\\n        print(f\\\"✓ Valid - Found {result.total_results} results\\\")\\n    except ValueError as e:\\n        print(f\\\"✗ Invalid - {e}\\\")\\n    except Exception as e:\\n        print(f\\\"⚠ Error - {e}\\\")\"",
   "outputs": []
  },
  {
   "cell_type": "code",
   "metadata": {},
   "outputs": [],
   "source": "# Define IPC subclasses for different technology areas\\nipc_subclasses = {\\n    \\\"Medical/Pharma\\\": \\\"A61K\\\",\\n    \\\"Elevators/Lifts\\\": \\\"B66B\\\", \\n    \\\"Semiconductors\\\": \\\"H01L\\\",\\n    \\\"Computing\\\": \\\"G06F\\\",\\n    \\\"Chemistry\\\": \\\"C07D\\\"\\n}\\n\\n# Query each IPC subclass\\ncomparison_results = {}\\n\\nfor tech_area, ipc_subclass in ipc_subclasses.items():\\n    print(f\\\"\\\\nQuerying {tech_area} ({ipc_subclass})...\\\")\\n    result = ipc_query.search(ipc_subclass, verbose=False)\\n    comparison_results[tech_area] = {\\n        'total_results': result.total_results,\\n        'response_time': result.response_time,\\n        'patents_retrieved': len(result.patents)\\n    }\\n    \\n# Convert to DataFrame for easy visualization\\ncomparison_df = pd.DataFrame(comparison_results).T\\nprint(\\\"\\\\nComparison Results:\\\")\\nprint(comparison_df)\""
  },
  {
   "cell_type": "markdown",
   "metadata": {},
   "source": [
    "## Comparing Multiple IPC Codes\n",
    "\n",
    "Let's compare different technology areas:"
   ]
  },
  {
   "cell_type": "code",
   "execution_count": null,
   "metadata": {},
   "outputs": [],
   "source": [
    "# Define IPC codes for different technology areas\n",
    "ipc_codes = {\n",
    "    \"Medical/Pharma\": \"A61K*\",\n",
    "    \"Biotechnology\": \"C12N*\",\n",
    "    \"Semiconductors\": \"H01L*\",\n",
    "    \"Telecommunications\": \"H04*\",\n",
    "    \"Computing\": \"G06*\"\n",
    "}\n",
    "\n",
    "# Query each IPC code\n",
    "comparison_results = {}\n",
    "\n",
    "for tech_area, ipc_code in ipc_codes.items():\n",
    "    print(f\"\\nQuerying {tech_area} ({ipc_code})...\")\n",
    "    result = ipc_query.search(ipc_code, verbose=False)\n",
    "    comparison_results[tech_area] = {\n",
    "        'total_results': result.total_results,\n",
    "        'response_time': result.response_time,\n",
    "        'patents_retrieved': len(result.patents)\n",
    "    }\n",
    "    \n",
    "# Convert to DataFrame for easy visualization\n",
    "comparison_df = pd.DataFrame(comparison_results).T\n",
    "print(\"\\nComparison Results:\")\n",
    "print(comparison_df)"
   ]
  },
  {
   "cell_type": "markdown",
   "metadata": {},
   "source": "# Silent query (no console output)\\nsilent_result = query_ipc(\\\"A61P\\\", verbose=False)  # Specific therapeutic activity\\n\\n# Process results programmatically\\nif silent_result.patents:\\n    print(f\\\"Found {len(silent_result.patents)} patents\\\")\\n    print(f\\\"Query took {silent_result.response_time} seconds\\\")\\n    \\n    # Extract unique countries\\n    countries = set(patent['country'] for patent in silent_result.patents)\\n    print(f\\\"Countries represented: {', '.join(sorted(countries))}\\\")\\nelse:\\n    print(\\\"No patents found\\\")\"",
   "outputs": []
  },
  {
   "cell_type": "code",
   "execution_count": null,
   "metadata": {},
   "outputs": [],
   "source": [
    "# Create subplots for comparison\n",
    "fig, (ax1, ax2) = plt.subplots(1, 2, figsize=(15, 6))\n",
    "\n",
    "# Convert total_results to numeric (handle 'unbekannt' values)\n",
    "comparison_df['total_results_numeric'] = pd.to_numeric(\n",
    "    comparison_df['total_results'], \n",
    "    errors='coerce'\n",
    ")\n",
    "\n",
    "# Plot 1: Total Results\n",
    "valid_totals = comparison_df.dropna(subset=['total_results_numeric'])\n",
    "if not valid_totals.empty:\n",
    "    sns.barplot(data=valid_totals.reset_index(), \n",
    "                x='total_results_numeric', \n",
    "                y='index', \n",
    "                ax=ax1)\n",
    "    ax1.set_title('Total Patent Results by Technology Area')\n",
    "    ax1.set_xlabel('Number of Patents')\n",
    "    ax1.set_ylabel('Technology Area')\n",
    "\n",
    "# Plot 2: Response Times\n",
    "sns.barplot(data=comparison_df.reset_index(), \n",
    "            x='response_time', \n",
    "            y='index', \n",
    "            ax=ax2)\n",
    "ax2.set_title('API Response Times by Technology Area')\n",
    "ax2.set_xlabel('Response Time (seconds)')\n",
    "ax2.set_ylabel('Technology Area')\n",
    "\n",
    "plt.tight_layout()\n",
    "plt.show()"
   ]
  },
  {
   "cell_type": "markdown",
   "metadata": {},
   "source": "# Example of handling potential errors\\ntry:\\n    # Try an invalid IPC subclass\\n    invalid_result = ipc_query.search(\\\"INVALID\\\")\\n    print(f\\\"Unexpected success: {invalid_result.total_results} results\\\")\\nexcept ValueError as e:\\n    print(f\\\"Expected validation error: {e}\\\")\\nexcept Exception as e:\\n    print(f\\\"Unexpected error: {e}\\\")\"",
   "outputs": []
  },
  {
   "cell_type": "code",
   "metadata": {},
   "outputs": [],
   "source": "# Create a bar plot of countries\\nplt.figure(figsize=(10, 6))\\ncountry_counts = df['country'].value_counts()\\nsns.barplot(x=country_counts.values, y=country_counts.index)\\nplt.title(f'Patent Distribution by Country - IPC Subclass: B66B')\\nplt.xlabel('Number of Patents')\\nplt.ylabel('Country')\\nplt.tight_layout()\\nplt.show()\""
  },
  {
   "cell_type": "markdown",
   "metadata": {},
   "source": "## Summary\\n\\nThe refactored `ipc_query.py` module provides:\\n\\n1. **Clean Architecture**: Separate classes for queries and results\\n2. **Type Safety**: Full type hints for better development experience\\n3. **IPC Subclass Support**: Validates and processes 4-character IPC subclasses only\\n4. **No Wildcards**: Follows EPO OPS API restrictions by removing wildcards\\n5. **Error Handling**: Robust handling of API errors and validation issues\\n6. **Data Integration**: Easy conversion to pandas DataFrames for analysis\\n\\n### Key Classes:\\n- `IPCQuery`: Main class for performing searches\\n- `IPCQueryResult`: Container for search results with display methods\\n- `query_ipc()`: Convenience function for simple queries\\n\\n### Supported IPC Subclasses (Examples):\\n- `A61K`: Medical/pharmaceutical preparations\\n- `B66B`: Elevators, lifts, escalators\\n- `H01L`: Semiconductor devices\\n- `G06F`: Digital data processing\\n- `C07D`: Heterocyclic compounds\\n\\n### Important Limitations:\\n- **Only 4-character IPC subclasses supported** (e.g., A61K, not A61K*)\\n- **No wildcards allowed** due to EPO OPS API restrictions\\n- **Authentication required** via .env file with OPS_KEY and OPS_SECRET\"",
   "outputs": []
  },
  {
   "cell_type": "code",
   "execution_count": null,
   "metadata": {},
   "outputs": [],
   "source": [
    "# Example of handling potential errors\n",
    "try:\n",
    "    # Try an invalid IPC code\n",
    "    invalid_result = ipc_query.search(\"INVALID_CODE\")\n",
    "    print(f\"Unexpected success: {invalid_result.total_results} results\")\n",
    "except Exception as e:\n",
    "    print(f\"Error occurred: {e}\")\n",
    "    print(\"This is expected for invalid IPC codes\")"
   ]
  },
  {
   "cell_type": "markdown",
   "metadata": {},
   "source": [
    "## Summary\n",
    "\n",
    "The refactored `ipc_query.py` module provides:\n",
    "\n",
    "1. **Clean Architecture**: Separate classes for queries and results\n",
    "2. **Type Safety**: Full type hints for better development experience\n",
    "3. **Flexibility**: Both simple function calls and detailed class-based usage\n",
    "4. **Error Handling**: Robust handling of API errors and edge cases\n",
    "5. **Data Integration**: Easy conversion to pandas DataFrames for analysis\n",
    "\n",
    "### Key Classes:\n",
    "- `IPCQuery`: Main class for performing searches\n",
    "- `IPCQueryResult`: Container for search results with display methods\n",
    "- `query_ipc()`: Convenience function for simple queries\n",
    "\n",
    "### Common IPC Codes:\n",
    "- `A61K*`: Medical/pharmaceutical preparations\n",
    "- `C12N*`: Biotechnology (microorganisms, enzymes)\n",
    "- `H01L*`: Semiconductor devices\n",
    "- `H04*`: Electric communication technique\n",
    "- `G06*`: Computing, calculating, counting"
   ]
  },
  {
   "cell_type": "code",
   "execution_count": null,
   "metadata": {},
   "outputs": [],
   "source": []
  }
 ],
 "metadata": {
  "kernelspec": {
   "display_name": "Python 3 (ipykernel)",
   "language": "python",
   "name": "python3"
  },
  "language_info": {
   "codemirror_mode": {
    "name": "ipython",
    "version": 3
   },
   "file_extension": ".py",
   "mimetype": "text/x-python",
   "name": "python",
   "nbconvert_exporter": "python",
   "pygments_lexer": "ipython3",
   "version": "3.12.9"
  }
 },
 "nbformat": 4,
 "nbformat_minor": 4
}